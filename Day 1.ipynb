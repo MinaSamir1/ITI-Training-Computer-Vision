{
 "cells": [
  {
   "cell_type": "code",
   "execution_count": 1,
   "metadata": {},
   "outputs": [
    {
     "name": "stdout",
     "output_type": "stream",
     "text": [
      "The Full Name : mina samir\n"
     ]
    }
   ],
   "source": [
    "import time \n",
    "\n",
    "first_name = input(\"Enter Your First name : \")\n",
    "last_name  = input(\"Enter Your Last name : \")\n",
    "\n",
    "print (\"The Full Name :\", first_name, last_name)"
   ]
  },
  {
   "cell_type": "code",
   "execution_count": 2,
   "metadata": {},
   "outputs": [
    {
     "name": "stdout",
     "output_type": "stream",
     "text": [
      "date and time now = 2022-02-06 14:11:20.280546\n"
     ]
    }
   ],
   "source": [
    "from datetime import datetime\n",
    "\n",
    "time_now = datetime.now()\n",
    "\n",
    "print(\"date and time now =\", time_now)\t"
   ]
  },
  {
   "cell_type": "code",
   "execution_count": 10,
   "metadata": {},
   "outputs": [
    {
     "name": "stdout",
     "output_type": "stream",
     "text": [
      "The Sum is 10\n",
      "The Sub is 0\n",
      "The Multi is 25\n"
     ]
    }
   ],
   "source": [
    "first_num = int(input(\"Enter the first Number:\"))\n",
    "second_num = int(input(\"Enter Second Number:\"))\n",
    "import time\n",
    "\n",
    "\n",
    "print(f\"The Sum is {first_num+second_num}\\nThe Sub is {abs(first_num-second_num)}\\nThe Multi is {first_num*second_num}\")"
   ]
  },
  {
   "cell_type": "code",
   "execution_count": null,
   "metadata": {},
   "outputs": [],
   "source": []
  }
 ],
 "metadata": {
  "interpreter": {
   "hash": "2746da95ef296f9a6b8eaae926b2889a7ea67023073cf3a3f1a883302d54ed52"
  },
  "kernelspec": {
   "display_name": "Python 3.7.7 64-bit",
   "language": "python",
   "name": "python3"
  },
  "language_info": {
   "codemirror_mode": {
    "name": "ipython",
    "version": 3
   },
   "file_extension": ".py",
   "mimetype": "text/x-python",
   "name": "python",
   "nbconvert_exporter": "python",
   "pygments_lexer": "ipython3",
   "version": "3.7.7"
  },
  "orig_nbformat": 4
 },
 "nbformat": 4,
 "nbformat_minor": 2
}
