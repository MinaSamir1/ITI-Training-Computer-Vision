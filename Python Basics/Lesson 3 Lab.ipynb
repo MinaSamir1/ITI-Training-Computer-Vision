{
 "cells": [
  {
   "cell_type": "code",
   "execution_count": 9,
   "metadata": {},
   "outputs": [],
   "source": [
    "#Write a function that count vowels in a sentence from user input.\n",
    "\n",
    "def count(sen):\n",
    "\n",
    "    vowels = 0\n",
    "    for char in sen:\n",
    "        if char == 'a' or char =='A':\n",
    "            vowels+=1\n",
    "        elif char =='e' or char=='E':\n",
    "            vowels+=1\n",
    "        elif char =='i' or char == 'I':\n",
    "            vowels+=1\n",
    "        elif char == 'o' or char =='O':\n",
    "            vowels+=1\n",
    "        elif char =='u' or char == 'U':\n",
    "            vowels+=1\n",
    "    print(f\"the sentence is '{sen}' \\nThe number of the vowels is {vowels}\")"
   ]
  },
  {
   "cell_type": "code",
   "execution_count": 10,
   "metadata": {},
   "outputs": [
    {
     "name": "stdout",
     "output_type": "stream",
     "text": [
      "the sentence is 'my name is mina samir ' \n",
      "The number of the vowels is 7\n"
     ]
    }
   ],
   "source": [
    "inp = input(\"Enetr the sentence : \")\n",
    "\n",
    "count(inp)"
   ]
  },
  {
   "cell_type": "code",
   "execution_count": 12,
   "metadata": {},
   "outputs": [
    {
     "name": "stdout",
     "output_type": "stream",
     "text": [
      "the last digit is : 5\n"
     ]
    }
   ],
   "source": [
    "#2.Write a program to display the last digit of a number.\n",
    "\n",
    "inp = input (\"Enter the Number: \")\n",
    "\n",
    "print(f'the last digit is : {inp[-1]}')"
   ]
  },
  {
   "cell_type": "code",
   "execution_count": 14,
   "metadata": {},
   "outputs": [
    {
     "name": "stdout",
     "output_type": "stream",
     "text": [
      "4 6 8 10 12 14 16 18 20 22 24 26 28 30 "
     ]
    }
   ],
   "source": [
    "#Generate a Python list of all the even numbers between 4 to 30\n",
    "\n",
    "start = int(input(\"Enter the start of range: \"))\n",
    "end = int(input(\"Enter the end of range: \"))\n",
    "  \n",
    "for num in range(start, end + 1):\n",
    "      \n",
    "    if num % 2 == 0:\n",
    "        print(num, end = \" \")"
   ]
  },
  {
   "cell_type": "code",
   "execution_count": 16,
   "metadata": {},
   "outputs": [
    {
     "name": "stdout",
     "output_type": "stream",
     "text": [
      "The Minimum value is : 10\n",
      "The Maximum Value is : 300\n"
     ]
    }
   ],
   "source": [
    "#Make Method to Return the Maximum and Minimum  item from the given list.\n",
    "lis =[100,30,22,40,60,20,10,300]\n",
    "\n",
    "def find(lis):\n",
    "    print(f\"The Minimum value is : {min(lis)}\")\n",
    "    print(f\"The Maximum Value is : {max(lis)}\")\n",
    "\n",
    "\n",
    "find(lis)"
   ]
  },
  {
   "cell_type": "code",
   "execution_count": 18,
   "metadata": {},
   "outputs": [
    {
     "name": "stdout",
     "output_type": "stream",
     "text": [
      "20\n",
      "40\n",
      "60\n",
      "80\n",
      "100\n"
     ]
    }
   ],
   "source": [
    "#Use a loop to display elements from a given list that are present at odd index positions\n",
    "lst = [10, 20, 30, 40, 50, 60, 70, 80, 90, 100]\n",
    "\n",
    "for i in range(1, len(lst)+1, 2):\n",
    "    print(lst[i])\n"
   ]
  },
  {
   "cell_type": "code",
   "execution_count": 19,
   "metadata": {},
   "outputs": [
    {
     "name": "stdout",
     "output_type": "stream",
     "text": [
      "The day 5 is thursday\n"
     ]
    }
   ],
   "source": [
    "#Write a program to accept a number from 1 to 7 and display the name of the day like 1 for Sunday , 2 for Monday and so on.\n",
    "\n",
    "dict = { 1:\"Sunday\",\n",
    "2:\"Monday\",\n",
    "3:\"Tusday\",\n",
    "4:\"Wednethday\",\n",
    "5:\"Thursday\",\n",
    "6:\"Friday\",\n",
    "7:\"Saturday\"\n",
    "}\n",
    "\n",
    "inp = int(input(\"Enter the Number of Day : \"))\n",
    "\n",
    "print(f\"The day {inp} is {dict[inp]}\")"
   ]
  }
 ],
 "metadata": {
  "interpreter": {
   "hash": "2746da95ef296f9a6b8eaae926b2889a7ea67023073cf3a3f1a883302d54ed52"
  },
  "kernelspec": {
   "display_name": "Python 3.7.7 64-bit",
   "language": "python",
   "name": "python3"
  },
  "language_info": {
   "codemirror_mode": {
    "name": "ipython",
    "version": 3
   },
   "file_extension": ".py",
   "mimetype": "text/x-python",
   "name": "python",
   "nbconvert_exporter": "python",
   "pygments_lexer": "ipython3",
   "version": "3.7.7"
  },
  "orig_nbformat": 4
 },
 "nbformat": 4,
 "nbformat_minor": 2
}
