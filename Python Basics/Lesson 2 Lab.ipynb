{
 "cells": [
  {
   "cell_type": "markdown",
   "metadata": {},
   "source": [
    "# Section2 12:30 - 3:30"
   ]
  },
  {
   "cell_type": "code",
   "execution_count": 9,
   "metadata": {},
   "outputs": [
    {
     "data": {
      "text/plain": [
       "'mina samir'"
      ]
     },
     "execution_count": 9,
     "metadata": {},
     "output_type": "execute_result"
    }
   ],
   "source": [
    "# Name : Enter Your name here\n",
    "\n",
    "name = input(\"Enter Your name:\")\n",
    "\n",
    "name"
   ]
  },
  {
   "cell_type": "code",
   "execution_count": 12,
   "metadata": {},
   "outputs": [
    {
     "name": "stdout",
     "output_type": "stream",
     "text": [
      "The sum of the List is : 108 \n"
     ]
    }
   ],
   "source": [
    "# Given a list of numbers, Calculate and print the sum of the list.\n",
    "\n",
    "list1 = [2, 0, 3, 14, 76, 5, 8]\n",
    "\n",
    "print(f\"The sum of the List is : {sum(list1)} \")"
   ]
  },
  {
   "cell_type": "code",
   "execution_count": 15,
   "metadata": {},
   "outputs": [
    {
     "name": "stdout",
     "output_type": "stream",
     "text": [
      "2\n",
      "0\n",
      "76\n",
      "8\n",
      "10\n",
      "42\n"
     ]
    }
   ],
   "source": [
    "# Given a list of numbers, Write a Python program to print\n",
    "# the even number of this list.\n",
    "\n",
    "list2 = [2, 0, 3, 13, 76, 5, 8, 10, 1, 33, 42]\n",
    "\n",
    "for val in list2:\n",
    "    if val%2==0:\n",
    "        print(val)"
   ]
  },
  {
   "cell_type": "code",
   "execution_count": 19,
   "metadata": {},
   "outputs": [
    {
     "name": "stdout",
     "output_type": "stream",
     "text": [
      "The division is : 0.5\n"
     ]
    }
   ],
   "source": [
    "# Given 2 numbers a, b, Write a Python program to print the result of division a / b if b isn't zero \n",
    "# and print \"Error!! Division by zero\" if b is zero\n",
    "\n",
    "first_number = int(input(\"Enter the first number: \"))\n",
    "second_number= int(input(\"Enter The second Number:\"))\n",
    "\n",
    "if second_number==0:\n",
    "    print(\"Error!! Division by zero\")\n",
    "else:\n",
    "    print(f\"The division is : {first_number/second_number}\")\n"
   ]
  },
  {
   "cell_type": "code",
   "execution_count": 24,
   "metadata": {},
   "outputs": [
    {
     "name": "stdout",
     "output_type": "stream",
     "text": [
      "2--> Even Less than 10\n",
      "0--> the Number is  Zero\n",
      "3--> Odd Less than 10\n",
      "13--> Odd greater than 10\n",
      "76--> Even Greater than 10\n",
      "5--> Odd Less than 10\n",
      "8--> Even Less than 10\n",
      "10--> 1--> Odd Less than 10\n",
      "33--> Odd greater than 10\n",
      "42--> Even Greater than 10\n"
     ]
    }
   ],
   "source": [
    "# Iterate over the following list, and print a new line for each element to match the follwing conditions: \n",
    "# - Print \"Even less than 10\" if the number is even and less than 10.\n",
    "# - Print \"Even greater than 10\" if the number is even and greater than 10.\n",
    "# - Print \"Odd less than 10\" if the number is odd and less than 10.\n",
    "# - Print \"Odd greater than 10\" if the number is odd and greater than 10.\n",
    "# - Print \"Zero\" if the number is zero.\n",
    "list2 = [2, 0, 3, 13, 76, 5, 8, 10, 1, 33, 42]\n",
    "\n",
    "\n",
    "for val in list2:\n",
    "    print(val, end='--> ')\n",
    "    if val ==0:\n",
    "        print('the Number is  Zero')\n",
    "    elif val%2==0 and val<10:\n",
    "        print(\"Even Less than 10\")\n",
    "    elif val%2==0 and val>10:\n",
    "        print(\"Even Greater than 10\")\n",
    "    elif val<10:\n",
    "        print(\"Odd Less than 10\")\n",
    "    elif val>10:\n",
    "        print(\"Odd greater than 10\")\n"
   ]
  },
  {
   "cell_type": "code",
   "execution_count": 32,
   "metadata": {},
   "outputs": [
    {
     "name": "stdout",
     "output_type": "stream",
     "text": [
      "[0, 1, 2, 3, 4, 5, 8, 10, 13, 33, 42, 76]\n",
      "its lenght is :12\n"
     ]
    }
   ],
   "source": [
    "# Find the index of the value \"76\" in the following list , \n",
    "# add this index to the end of the list,\n",
    "# then sort this list \n",
    "# print the list and its lenght.\n",
    "list2 = [2, 0, 3, 13, 76, 5, 8, 10, 1, 33, 42]\n",
    "\n",
    "the_index = list2.index(76)\n",
    "list2.append(the_index)\n",
    "list2.sort()\n",
    "\n",
    "print(list2)\n",
    "print(f\"its lenght is :{len(list2)}\")\n"
   ]
  },
  {
   "cell_type": "code",
   "execution_count": 34,
   "metadata": {},
   "outputs": [
    {
     "data": {
      "text/plain": [
       "{'first_name': 'Alan', 'age': 42, 'last_name': 'Turing'}"
      ]
     },
     "execution_count": 34,
     "metadata": {},
     "output_type": "execute_result"
    }
   ],
   "source": [
    "# Given the following dictionary, \n",
    "# Change the value of age to be 42 \n",
    "# add a key to the dictionary named \"last_name\" and set its value to 'Turing'\n",
    "# remove the country key \n",
    "# print the result dictionary\n",
    "\n",
    "dict = {'first_name': 'Alan', 'age': 26, 'country': 'England'}\n",
    "\n",
    "dict['age'] = 42\n",
    "dict[\"last_name\"] = 'Turing'\n",
    "dict.pop('country',None)\n",
    "\n",
    "dict\n"
   ]
  },
  {
   "cell_type": "code",
   "execution_count": 37,
   "metadata": {},
   "outputs": [
    {
     "data": {
      "text/plain": [
       "{1, 2, 3, 4, 5, 6, 7.5, 10}"
      ]
     },
     "execution_count": 37,
     "metadata": {},
     "output_type": "execute_result"
    }
   ],
   "source": [
    "# Given the following set:\n",
    "# Add number 10 to the set\n",
    "# Then add the following numbers to the set: 6, 4, 5\n",
    "# remove the element 'Ali'\n",
    "# print the set\n",
    "\n",
    "set_1 = {1, 2, 3, 7.5, 'Ali'}\n",
    "\n",
    "set_1.add(10)\n",
    "set_1.update([6, 4, 5])\n",
    "set_1.remove('Ali')\n",
    "\n",
    "set_1"
   ]
  },
  {
   "cell_type": "code",
   "execution_count": null,
   "metadata": {},
   "outputs": [],
   "source": []
  }
 ],
 "metadata": {
  "interpreter": {
   "hash": "2746da95ef296f9a6b8eaae926b2889a7ea67023073cf3a3f1a883302d54ed52"
  },
  "kernelspec": {
   "display_name": "Python 3.7.7 64-bit",
   "language": "python",
   "name": "python3"
  },
  "language_info": {
   "codemirror_mode": {
    "name": "ipython",
    "version": 3
   },
   "file_extension": ".py",
   "mimetype": "text/x-python",
   "name": "python",
   "nbconvert_exporter": "python",
   "pygments_lexer": "ipython3",
   "version": "3.7.7"
  },
  "orig_nbformat": 4
 },
 "nbformat": 4,
 "nbformat_minor": 2
}
