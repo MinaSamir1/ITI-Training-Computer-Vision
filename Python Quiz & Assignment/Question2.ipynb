{
 "cells": [
  {
   "cell_type": "code",
   "execution_count": 1,
   "metadata": {},
   "outputs": [],
   "source": [
    "def is_leap(year):\n",
    "       \n",
    "    return ((year % 400 == 0) or (year % 100 != 0) and (year % 4 == 0))\n"
   ]
  },
  {
   "cell_type": "code",
   "execution_count": 5,
   "metadata": {},
   "outputs": [
    {
     "name": "stdout",
     "output_type": "stream",
     "text": [
      "The Year is : 2000\n"
     ]
    },
    {
     "data": {
      "text/plain": [
       "True"
      ]
     },
     "execution_count": 5,
     "metadata": {},
     "output_type": "execute_result"
    }
   ],
   "source": [
    "year = int(input(\"Enter the Year:\"))\n",
    "\n",
    "print(\"The Year is :\", year)\n",
    "\n",
    "is_leap(year)"
   ]
  }
 ],
 "metadata": {
  "interpreter": {
   "hash": "2746da95ef296f9a6b8eaae926b2889a7ea67023073cf3a3f1a883302d54ed52"
  },
  "kernelspec": {
   "display_name": "Python 3.7.7 64-bit",
   "language": "python",
   "name": "python3"
  },
  "language_info": {
   "codemirror_mode": {
    "name": "ipython",
    "version": 3
   },
   "file_extension": ".py",
   "mimetype": "text/x-python",
   "name": "python",
   "nbconvert_exporter": "python",
   "pygments_lexer": "ipython3",
   "version": "3.7.7"
  },
  "orig_nbformat": 4
 },
 "nbformat": 4,
 "nbformat_minor": 2
}
