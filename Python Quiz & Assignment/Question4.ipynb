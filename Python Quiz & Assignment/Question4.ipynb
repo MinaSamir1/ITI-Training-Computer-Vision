{
 "cells": [
  {
   "cell_type": "code",
   "execution_count": 47,
   "metadata": {},
   "outputs": [
    {
     "name": "stdout",
     "output_type": "stream",
     "text": [
      "The Number is : 5 \n",
      "\n",
      "1\n",
      "\n",
      "121\n",
      "\n",
      "12321\n",
      "\n",
      "1234321\n",
      "\n",
      "123454321\n",
      "\n"
     ]
    }
   ],
   "source": [
    "inp = abs(int(input(\"Enter A Number :\")))\n",
    "print(\"The Number is :\", inp,\"\\n\")\n",
    "\n",
    "\n",
    "for i in range(0,inp):\n",
    "    if i == 0:\n",
    "        print(1,end='')\n",
    "    for x in range(1, i+1):\n",
    "        print(x,end='')\n",
    "        if (x==i):\n",
    "            for z in range(x+1,0,-1):\n",
    "                print(z,end='')\n",
    "    print(\"\\n\")"
   ]
  },
  {
   "cell_type": "code",
   "execution_count": null,
   "metadata": {},
   "outputs": [],
   "source": []
  }
 ],
 "metadata": {
  "interpreter": {
   "hash": "2746da95ef296f9a6b8eaae926b2889a7ea67023073cf3a3f1a883302d54ed52"
  },
  "kernelspec": {
   "display_name": "Python 3.7.7 64-bit",
   "language": "python",
   "name": "python3"
  },
  "language_info": {
   "codemirror_mode": {
    "name": "ipython",
    "version": 3
   },
   "file_extension": ".py",
   "mimetype": "text/x-python",
   "name": "python",
   "nbconvert_exporter": "python",
   "pygments_lexer": "ipython3",
   "version": "3.7.7"
  },
  "orig_nbformat": 4
 },
 "nbformat": 4,
 "nbformat_minor": 2
}
