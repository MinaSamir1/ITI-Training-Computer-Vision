{
 "cells": [
  {
   "cell_type": "code",
   "execution_count": 10,
   "metadata": {},
   "outputs": [],
   "source": [
    "def cal(num1, num2):\n",
    "    print(f\"The Num1= {num1} and Num2= {num2}\")\n",
    "    print(\"The Sum is      :\", num1+num2)\n",
    "    print(\"The Subtract is :\", num1-num2)\n",
    "    print(\"The Divide is   :\", num1/num2)\n",
    "    print(\"The Multiply is :\", num1*num2)"
   ]
  },
  {
   "cell_type": "code",
   "execution_count": 11,
   "metadata": {},
   "outputs": [
    {
     "name": "stdout",
     "output_type": "stream",
     "text": [
      "The Num1= 5 and Num2= 10\n",
      "The Sum is      : 15\n",
      "The Subtract is : -5\n",
      "The Divide is   : 0.5\n",
      "The Multiply is : 50\n"
     ]
    }
   ],
   "source": [
    "inp1 = int(input(\"Enter The First Number: \"))\n",
    "inp2 = int(input(\"Enter The Second Number :\"))\n",
    "\n",
    "cal(inp1, inp2)"
   ]
  },
  {
   "cell_type": "code",
   "execution_count": null,
   "metadata": {},
   "outputs": [],
   "source": []
  }
 ],
 "metadata": {
  "interpreter": {
   "hash": "2746da95ef296f9a6b8eaae926b2889a7ea67023073cf3a3f1a883302d54ed52"
  },
  "kernelspec": {
   "display_name": "Python 3.7.7 64-bit",
   "language": "python",
   "name": "python3"
  },
  "language_info": {
   "codemirror_mode": {
    "name": "ipython",
    "version": 3
   },
   "file_extension": ".py",
   "mimetype": "text/x-python",
   "name": "python",
   "nbconvert_exporter": "python",
   "pygments_lexer": "ipython3",
   "version": "3.7.7"
  },
  "orig_nbformat": 4
 },
 "nbformat": 4,
 "nbformat_minor": 2
}
