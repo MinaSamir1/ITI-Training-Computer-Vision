{
 "cells": [
  {
   "cell_type": "code",
   "execution_count": 71,
   "metadata": {},
   "outputs": [],
   "source": [
    "\n",
    "def check(n):\n",
    "    checker = 'Valid'\n",
    "\n",
    "    if n[0] not in ['4', '5', '6']:\n",
    "        checker = 'InValid'    \n",
    "\n",
    "    elif '-' in n:\n",
    "        num = n.split('-')\n",
    "\n",
    "        if len(num) != 4:\n",
    "            checker ='InValid'\n",
    "        else:\n",
    "            for i in num:\n",
    "                if len(i) != 4:\n",
    "                    checker='InValid'\n",
    "                for x in i:\n",
    "                    if not (x.isdigit()):\n",
    "                        checker = 'InValid'\n",
    "    \n",
    "    if len(n) != 16 or not(n.isnumeric()):\n",
    "        checker = 'InValid'\n",
    "    \n",
    "    return checker\n",
    "        "
   ]
  },
  {
   "cell_type": "code",
   "execution_count": 78,
   "metadata": {},
   "outputs": [
    {
     "name": "stdout",
     "output_type": "stream",
     "text": [
      "The Credit Number is : 1234567891234567\n",
      "It is InValid\n"
     ]
    }
   ],
   "source": [
    "n = input(\"Enter the Credit number :\")\n",
    "\n",
    "print(\"The Credit Number is :\", n)\n",
    "print(\"It is\", check(n))\n"
   ]
  },
  {
   "cell_type": "code",
   "execution_count": null,
   "metadata": {},
   "outputs": [],
   "source": []
  }
 ],
 "metadata": {
  "interpreter": {
   "hash": "2746da95ef296f9a6b8eaae926b2889a7ea67023073cf3a3f1a883302d54ed52"
  },
  "kernelspec": {
   "display_name": "Python 3.7.7 64-bit",
   "language": "python",
   "name": "python3"
  },
  "language_info": {
   "codemirror_mode": {
    "name": "ipython",
    "version": 3
   },
   "file_extension": ".py",
   "mimetype": "text/x-python",
   "name": "python",
   "nbconvert_exporter": "python",
   "pygments_lexer": "ipython3",
   "version": "3.7.7"
  },
  "orig_nbformat": 4
 },
 "nbformat": 4,
 "nbformat_minor": 2
}
