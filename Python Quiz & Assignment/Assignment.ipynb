{
 "cells": [
  {
   "cell_type": "code",
   "execution_count": 1,
   "metadata": {},
   "outputs": [
    {
     "name": "stdout",
     "output_type": "stream",
     "text": [
      "###==== Welcome to password strength Checker ====###\n",
      "* Your Password has:\n",
      "4 Lowercases Letters\n",
      "4 UpperCase Letters\n",
      "5 digits\n",
      "0 WhiteSpaces\n",
      "1 Special Spaces\n",
      "\n",
      "Password Score: 4/5\n",
      "Your Password is Good but it can be improved\n",
      "Exiting....\n"
     ]
    }
   ],
   "source": [
    "import getpass\n",
    "import string\n",
    " \n",
    "pas = getpass.getpass()\n",
    "is_lower=0\n",
    "is_upper=0\n",
    "is_digits=0\n",
    "is_white =0\n",
    "special_char=0\n",
    "\n",
    "for char in pas:\n",
    "\n",
    "    if char.islower():\n",
    "        is_lower+=1\n",
    "    elif char.isupper():\n",
    "        is_upper+=1\n",
    "    elif char.isdigit():\n",
    "        is_digits+=1\n",
    "    elif char.isspace():\n",
    "        is_white+=1\n",
    "    elif set(char).intersection(set(string.punctuation)):\n",
    "        special_char+=1\n",
    "\n",
    "score = 5 - [is_digits,is_lower,is_upper,is_white,special_char].count(0)\n",
    "\n",
    "print(\"###==== Welcome to password strength Checker ====###\")\n",
    "print(\"* Your Password has:\")\n",
    "print(is_lower, \"Lowercases Letters\")\n",
    "print(is_upper, \"UpperCase Letters\")\n",
    "print(is_digits, \"digits\")\n",
    "print(is_white, \"WhiteSpaces\")\n",
    "print(special_char, \"Special Spaces\")\n",
    "print (f\"\\nPassword Score: {score}/5\")\n",
    "if score <=3:\n",
    "    print(\"Your Password is very Week You need to seriously improve it\")\n",
    "elif score==4:\n",
    "    print(\"Your Password is Good but it can be improved\")\n",
    "elif score ==5:\n",
    "    print(\"Your password is great\")\n",
    "print(\"Exiting....\")"
   ]
  },
  {
   "cell_type": "code",
   "execution_count": null,
   "metadata": {},
   "outputs": [],
   "source": []
  }
 ],
 "metadata": {
  "interpreter": {
   "hash": "2746da95ef296f9a6b8eaae926b2889a7ea67023073cf3a3f1a883302d54ed52"
  },
  "kernelspec": {
   "display_name": "Python 3.7.7 64-bit",
   "language": "python",
   "name": "python3"
  },
  "language_info": {
   "codemirror_mode": {
    "name": "ipython",
    "version": 3
   },
   "file_extension": ".py",
   "mimetype": "text/x-python",
   "name": "python",
   "nbconvert_exporter": "python",
   "pygments_lexer": "ipython3",
   "version": "3.7.7"
  },
  "orig_nbformat": 4
 },
 "nbformat": 4,
 "nbformat_minor": 2
}
