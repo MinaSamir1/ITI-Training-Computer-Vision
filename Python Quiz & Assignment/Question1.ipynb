{
 "cells": [
  {
   "cell_type": "code",
   "execution_count": 34,
   "metadata": {},
   "outputs": [],
   "source": [
    "def fun(inp):\n",
    "    dic = {}\n",
    "\n",
    "    for i in sampleset:\n",
    "            if type(i) in dic:\n",
    "               dic[type(i)].append(i)\n",
    "            else :\n",
    "               dic[type(i)] = [i]\n",
    "    \n",
    "    print(dic)"
   ]
  },
  {
   "cell_type": "code",
   "execution_count": 35,
   "metadata": {},
   "outputs": [
    {
     "name": "stdout",
     "output_type": "stream",
     "text": [
      "{<class 'int'>: [1, 7], <class 'float'>: [1.3, 4.4], <class 'str'>: ['hi', '45'], <class 'list'>: [[0, 1]]}\n"
     ]
    }
   ],
   "source": [
    "sampleset = [1,1.3,7,4.4,'hi',[0,1],'45']\n",
    "\n",
    "fun(sampleset)"
   ]
  },
  {
   "cell_type": "code",
   "execution_count": null,
   "metadata": {},
   "outputs": [],
   "source": []
  }
 ],
 "metadata": {
  "interpreter": {
   "hash": "2746da95ef296f9a6b8eaae926b2889a7ea67023073cf3a3f1a883302d54ed52"
  },
  "kernelspec": {
   "display_name": "Python 3.7.7 64-bit",
   "language": "python",
   "name": "python3"
  },
  "language_info": {
   "codemirror_mode": {
    "name": "ipython",
    "version": 3
   },
   "file_extension": ".py",
   "mimetype": "text/x-python",
   "name": "python",
   "nbconvert_exporter": "python",
   "pygments_lexer": "ipython3",
   "version": "3.7.7"
  },
  "orig_nbformat": 4
 },
 "nbformat": 4,
 "nbformat_minor": 2
}
