{
 "cells": [
  {
   "cell_type": "code",
   "execution_count": 9,
   "metadata": {},
   "outputs": [
    {
     "name": "stdout",
     "output_type": "stream",
     "text": [
      "The Numbers is : 5, 10, 15\n",
      "<class 'list'>\n",
      "the Max Value:  5\n",
      "the Min Value:  10\n"
     ]
    }
   ],
   "source": [
    "first = input(\"Enter the first :\")\n",
    "second = input(\"Enter the second :\")\n",
    "last = input(\"Enetr the third\")\n",
    "\n",
    "\n",
    "lista = []\n",
    "\n",
    "lista.extend([first, second, last])\n",
    "\n",
    "\n",
    "print(type(lista))\n",
    "\n",
    "print(f\"The Numbers is : {first}, {second}, {last}\")\n",
    "print(\"the Max Value: \",max(lista))\n",
    "print(\"the Min Value: \",min(lista))\n"
   ]
  },
  {
   "cell_type": "code",
   "execution_count": 13,
   "metadata": {},
   "outputs": [
    {
     "name": "stdout",
     "output_type": "stream",
     "text": [
      "The Numbers is : [5, 10, 8, 55, 25]\n",
      "the Max Value:  55\n",
      "the Min Value:  5\n"
     ]
    }
   ],
   "source": [
    "listt = []\n",
    "\n",
    "while True :\n",
    "    inp = input(\"Enetr Numbers and E to Exit:\")\n",
    "\n",
    "    if inp == \"E\":\n",
    "        break\n",
    "\n",
    "    listt.append(int(inp))\n",
    "\n",
    "\n",
    "print(f\"The Numbers is : {listt}\")\n",
    "\n",
    "\n",
    "print(\"the Max Value: \",max(listt))\n",
    "print(\"the Min Value: \",min(listt))\n"
   ]
  },
  {
   "cell_type": "markdown",
   "metadata": {},
   "source": [
    "## Ternary operator"
   ]
  },
  {
   "cell_type": "code",
   "execution_count": 15,
   "metadata": {},
   "outputs": [
    {
     "name": "stdout",
     "output_type": "stream",
     "text": [
      "faild\n"
     ]
    }
   ],
   "source": [
    "grade = 20\n",
    "result = 'succeeded' if grade >= 50 else 'faild'\n",
    "\n",
    "print(result)"
   ]
  },
  {
   "cell_type": "code",
   "execution_count": 16,
   "metadata": {},
   "outputs": [
    {
     "name": "stdout",
     "output_type": "stream",
     "text": [
      "Faild\n"
     ]
    }
   ],
   "source": [
    "result = ''\n",
    "\n",
    "if grade>=50:\n",
    "    result = 'succeeded'\n",
    "else:\n",
    "    result = 'Faild'\n",
    "\n",
    "print(result)"
   ]
  },
  {
   "cell_type": "markdown",
   "metadata": {},
   "source": [
    "## Exercise 2"
   ]
  },
  {
   "cell_type": "code",
   "execution_count": 19,
   "metadata": {},
   "outputs": [
    {
     "name": "stdout",
     "output_type": "stream",
     "text": [
      "succeeded\n"
     ]
    }
   ],
   "source": [
    "num = int(input(\"Enter Number\"))\n",
    "\n",
    "result = 'succeeded' if num <65 and num >18 else 'faild'\n",
    "\n",
    "print(result)\n",
    "\n"
   ]
  },
  {
   "cell_type": "markdown",
   "metadata": {},
   "source": [
    "### create a random password  generator of alphabets\n",
    "- pass lenght = 6 \n",
    "\n",
    "Note: use random liberary"
   ]
  },
  {
   "cell_type": "code",
   "execution_count": 31,
   "metadata": {},
   "outputs": [
    {
     "name": "stdout",
     "output_type": "stream",
     "text": [
      "biYCrn\n"
     ]
    }
   ],
   "source": [
    "import string\n",
    "import random\n",
    "  \n",
    "pas = \"\"\n",
    "\n",
    "for i in range(6):\n",
    "   pas =  pas + random.choice(string.ascii_letters)\n",
    "\n",
    "print(pas)\n"
   ]
  },
  {
   "cell_type": "markdown",
   "metadata": {},
   "source": [
    "### Tempreture converter from c to f and from f to c depend on the user input"
   ]
  },
  {
   "cell_type": "code",
   "execution_count": 35,
   "metadata": {},
   "outputs": [
    {
     "name": "stdout",
     "output_type": "stream",
     "text": [
      "Which Convertion do you want :\n",
      "f: Fahrenheit to Celsius\n",
      "c: Celsius to Fehrenheit\n",
      "Wrong Answer\n"
     ]
    }
   ],
   "source": [
    "print(\"Which Convertion do you want :\")\n",
    "print(\"f: Fahrenheit to Celsius\")\n",
    "print(\"c: Celsius to Fehrenheit\")\n",
    "Choise = input (\"Enter The choise: \")\n",
    "\n",
    "\n",
    "if Choise == 'f':\n",
    "    fer = float(input (\"Enter the tempreture in Fahrenheit: \"))\n",
    "    print(f\"{fer} degree Fehrenhiet is equal to {(fer-32)*(5/9)} degree celsius\")\n",
    "\n",
    "elif Choise == 'c':\n",
    "    cel = float((\"enter the tempreture in Celsius: \"))\n",
    "    print(f\"{cel} degree Celsius is equal to {(cel*9/5)+32} degree Fehrenhiet\")\n",
    "    print((cel*9/5)+32)\n",
    "\n",
    "else :\n",
    "    print(\"Wrong Answer\")\n"
   ]
  },
  {
   "cell_type": "markdown",
   "metadata": {},
   "source": [
    "## Looping"
   ]
  },
  {
   "cell_type": "code",
   "execution_count": 1,
   "metadata": {},
   "outputs": [],
   "source": [
    "grades = [30, 50, 90, 70, 32, 48, 64]"
   ]
  },
  {
   "cell_type": "code",
   "execution_count": 7,
   "metadata": {},
   "outputs": [
    {
     "name": "stdout",
     "output_type": "stream",
     "text": [
      "Failed\n",
      "Failed\n",
      "Succeeded\n",
      "Succeeded\n",
      "Failed\n",
      "Failed\n",
      "Succeeded\n"
     ]
    }
   ],
   "source": [
    "for x in grades :\n",
    "    if x>50:\n",
    "        print(\"Succeeded\")\n",
    "    else :\n",
    "        print(\"Failed\")"
   ]
  },
  {
   "cell_type": "code",
   "execution_count": 10,
   "metadata": {},
   "outputs": [
    {
     "name": "stdout",
     "output_type": "stream",
     "text": [
      "ashly got 93\n",
      "brade got 95\n",
      "cassie got 84\n"
     ]
    }
   ],
   "source": [
    "grades = [('ashly', 93), ('brade', 95), ('cassie', 84)]\n",
    "\n",
    "for name, grade in grades :\n",
    "    print(f\"{name} got {grade}\")"
   ]
  },
  {
   "cell_type": "markdown",
   "metadata": {},
   "source": [
    "## Count from 100 to -50 with 2 steps"
   ]
  },
  {
   "cell_type": "code",
   "execution_count": 11,
   "metadata": {},
   "outputs": [
    {
     "name": "stdout",
     "output_type": "stream",
     "text": [
      "100-98-96-94-92-90-88-86-84-82-80-78-76-74-72-70-68-66-64-62-60-58-56-54-52-50-48-46-44-42-40-38-36-34-32-30-28-26-24-22-20-18-16-14-12-10-8-6-4-2-0--2--4--6--8--10--12--14--16--18--20--22--24--26--28--30--32--34--36--38--40--42--44--46--48-"
     ]
    }
   ],
   "source": [
    "for i in range(100,-50,-2):\n",
    "  print(i, end='-')\n"
   ]
  },
  {
   "cell_type": "markdown",
   "metadata": {},
   "source": [
    "## Functions "
   ]
  },
  {
   "cell_type": "code",
   "execution_count": 3,
   "metadata": {},
   "outputs": [],
   "source": [
    "def greet(name):\n",
    "    print(f\"hello {name}\")"
   ]
  },
  {
   "cell_type": "code",
   "execution_count": 4,
   "metadata": {},
   "outputs": [
    {
     "name": "stdout",
     "output_type": "stream",
     "text": [
      "hello ali\n"
     ]
    }
   ],
   "source": [
    "greet('ali')"
   ]
  },
  {
   "cell_type": "code",
   "execution_count": 5,
   "metadata": {},
   "outputs": [],
   "source": [
    "def greet(first, last):\n",
    "    print(f\"Hello {first} {last}\")"
   ]
  },
  {
   "cell_type": "code",
   "execution_count": 6,
   "metadata": {},
   "outputs": [
    {
     "name": "stdout",
     "output_type": "stream",
     "text": [
      "Hello mina samir\n"
     ]
    }
   ],
   "source": [
    "greet('Mina', 'Samir')"
   ]
  },
  {
   "cell_type": "code",
   "execution_count": 7,
   "metadata": {},
   "outputs": [
    {
     "data": {
      "text/plain": [
       "6"
      ]
     },
     "execution_count": 7,
     "metadata": {},
     "output_type": "execute_result"
    }
   ],
   "source": [
    "def add_2(x):\n",
    "    return x*2\n",
    "\n",
    "add_2(3)"
   ]
  },
  {
   "cell_type": "code",
   "execution_count": 10,
   "metadata": {},
   "outputs": [],
   "source": [
    "def add(x, y=1):\n",
    "    return x+y"
   ]
  },
  {
   "cell_type": "code",
   "execution_count": 11,
   "metadata": {},
   "outputs": [
    {
     "data": {
      "text/plain": [
       "15"
      ]
     },
     "execution_count": 11,
     "metadata": {},
     "output_type": "execute_result"
    }
   ],
   "source": [
    "add(5, 10)"
   ]
  },
  {
   "cell_type": "code",
   "execution_count": 12,
   "metadata": {},
   "outputs": [
    {
     "data": {
      "text/plain": [
       "12"
      ]
     },
     "execution_count": 12,
     "metadata": {},
     "output_type": "execute_result"
    }
   ],
   "source": [
    "def increment(val, by):\n",
    "    return val+by\n",
    "\n",
    "increment(10,2)"
   ]
  },
  {
   "cell_type": "code",
   "execution_count": null,
   "metadata": {},
   "outputs": [],
   "source": []
  }
 ],
 "metadata": {
  "interpreter": {
   "hash": "2746da95ef296f9a6b8eaae926b2889a7ea67023073cf3a3f1a883302d54ed52"
  },
  "kernelspec": {
   "display_name": "Python 3.7.7 64-bit",
   "language": "python",
   "name": "python3"
  },
  "language_info": {
   "codemirror_mode": {
    "name": "ipython",
    "version": 3
   },
   "file_extension": ".py",
   "mimetype": "text/x-python",
   "name": "python",
   "nbconvert_exporter": "python",
   "pygments_lexer": "ipython3",
   "version": "3.7.7"
  },
  "orig_nbformat": 4
 },
 "nbformat": 4,
 "nbformat_minor": 2
}
